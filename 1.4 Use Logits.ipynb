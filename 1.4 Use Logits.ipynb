{
 "cells": [
  {
   "cell_type": "markdown",
   "metadata": {},
   "source": [
    "# Use Logits"
   ]
  },
  {
   "cell_type": "markdown",
   "metadata": {},
   "source": [
    "## Objectives\n",
    "\n",
    "* create a model that maps an input to classes\n",
    "* use one-hot encoding\n",
    "* use softmax\n",
    "* visualise the errors using matplotlib"
   ]
  },
  {
   "cell_type": "markdown",
   "metadata": {},
   "source": [
    "## Use a linear model to predict non-linear behaviour"
   ]
  },
  {
   "cell_type": "code",
   "execution_count": 1,
   "metadata": {
    "collapsed": true
   },
   "outputs": [],
   "source": [
    "import tensorflow as tf"
   ]
  },
  {
   "cell_type": "code",
   "execution_count": 2,
   "metadata": {
    "collapsed": false
   },
   "outputs": [
    {
     "data": {
      "text/plain": [
       "'0.10.0'"
      ]
     },
     "execution_count": 2,
     "metadata": {},
     "output_type": "execute_result"
    }
   ],
   "source": [
    "tf.__version__"
   ]
  },
  {
   "cell_type": "markdown",
   "metadata": {},
   "source": [
    "Here the input maps to two classes 1 and 2\n",
    "\n",
    "Copy/Paste, changing just the function mapping"
   ]
  },
  {
   "cell_type": "code",
   "execution_count": null,
   "metadata": {
    "collapsed": false
   },
   "outputs": [],
   "source": [
    "x = tf.constant([[0.],[1.],[2.],[3.],[20.]])\n",
    "y = tf.constant([[0.],[0.],[1.],[1.],[1.]])\n",
    "\n",
    "w = tf.Variable([[0.]])\n",
    "b = tf.Variable([[0.]])\n",
    "\n",
    "y_pred = tf.matmul(x, w) + b\n",
    "\n",
    "loss = (y - y_pred)**2\n",
    "\n",
    "train_step = tf.train.GradientDescentOptimizer(0.0005).minimize(loss)\n",
    "\n",
    "sess = tf.Session()\n",
    "sess.run(tf.initialize_all_variables())\n",
    "\n",
    "for i in range(0,200):\n",
    "    sess.run(train_step)"
   ]
  },
  {
   "cell_type": "markdown",
   "metadata": {},
   "source": [
    "## Predictions"
   ]
  },
  {
   "cell_type": "code",
   "execution_count": null,
   "metadata": {
    "collapsed": false
   },
   "outputs": [],
   "source": [
    "sess.run(y_pred)"
   ]
  },
  {
   "cell_type": "markdown",
   "metadata": {},
   "source": [
    "A terrible job!\n",
    "\n",
    "2 out of 5 data points are misclassified"
   ]
  },
  {
   "cell_type": "markdown",
   "metadata": {},
   "source": [
    "## Heatmap of errors\n",
    "\n",
    "It is easyer to look at the error as a heatmap, so let's create a function that plots the error."
   ]
  },
  {
   "cell_type": "code",
   "execution_count": null,
   "metadata": {
    "collapsed": false
   },
   "outputs": [],
   "source": [
    "import matplotlib.pyplot as plt\n",
    "import numpy as np\n",
    "\n",
    "def error_heatmap(data):\n",
    "    data = map(abs, data)\n",
    "    img = plt.imshow(data, interpolation='nearest')\n",
    "    img.set_cmap('hot')\n",
    "    plt.clim(0,1)\n",
    "    plt.axis('off')    \n",
    "    plt.show()"
   ]
  },
  {
   "cell_type": "code",
   "execution_count": null,
   "metadata": {
    "collapsed": false
   },
   "outputs": [],
   "source": [
    "error_heatmap(sess.run(y_pred) - sess.run(y))"
   ]
  },
  {
   "cell_type": "markdown",
   "metadata": {},
   "source": [
    "## One-hot encoding"
   ]
  },
  {
   "cell_type": "markdown",
   "metadata": {},
   "source": [
    "read: https://www.quora.com/What-is-one-hot-encoding-and-when-is-it-used-in-data-science"
   ]
  },
  {
   "cell_type": "markdown",
   "metadata": {},
   "source": [
    "## Changes:\n",
    "* y is a (input_size,2) matrice, where 2 is the number of classes\n",
    "* using tf.nn.softmax to calculate y_pred from logits."
   ]
  },
  {
   "cell_type": "code",
   "execution_count": null,
   "metadata": {
    "collapsed": false
   },
   "outputs": [],
   "source": [
    "x = tf.constant([[0.],[1.],[2.],[3.],[20.]])\n",
    "y = tf.constant([[1.,0.],[1.,0.],[0.,1.],[0.,1.],[0.,1.]])\n",
    "\n",
    "w = tf.Variable([[0.,0.]])\n",
    "b = tf.Variable([[0.,0.]])\n",
    "\n",
    "logits = tf.matmul(x, w) + b\n",
    "y_pred = tf.nn.softmax(logits)\n",
    "\n",
    "\n",
    "loss = (y - y_pred)**2\n",
    "\n",
    "train_step = tf.train.GradientDescentOptimizer(0.2).minimize(loss)\n",
    "\n",
    "sess = tf.Session()\n",
    "sess.run(tf.initialize_all_variables())\n",
    "\n",
    "for i in range(0,2000):\n",
    "    sess.run(train_step) "
   ]
  },
  {
   "cell_type": "markdown",
   "metadata": {},
   "source": [
    "## Predictions"
   ]
  },
  {
   "cell_type": "code",
   "execution_count": null,
   "metadata": {
    "collapsed": false
   },
   "outputs": [],
   "source": [
    "sess.run(y_pred)"
   ]
  },
  {
   "cell_type": "markdown",
   "metadata": {},
   "source": [
    "## Error heatmap"
   ]
  },
  {
   "cell_type": "code",
   "execution_count": null,
   "metadata": {
    "collapsed": false
   },
   "outputs": [],
   "source": [
    "error_heatmap(sess.run(y_pred) - sess.run(y))"
   ]
  }
 ],
 "metadata": {
  "kernelspec": {
   "display_name": "Python 2",
   "language": "python",
   "name": "python2"
  },
  "language_info": {
   "codemirror_mode": {
    "name": "ipython",
    "version": 2
   },
   "file_extension": ".py",
   "mimetype": "text/x-python",
   "name": "python",
   "nbconvert_exporter": "python",
   "pygments_lexer": "ipython2",
   "version": "2.7.12"
  }
 },
 "nbformat": 4,
 "nbformat_minor": 2
}
