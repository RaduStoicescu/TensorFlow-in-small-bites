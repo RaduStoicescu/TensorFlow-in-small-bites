{
 "cells": [
  {
   "cell_type": "markdown",
   "metadata": {},
   "source": [
    "# Convolution Matrix filter"
   ]
  },
  {
   "cell_type": "markdown",
   "metadata": {
    "collapsed": true
   },
   "source": [
    "## Objectives\n",
    "\n",
    "* Implement a simple Convolution Matrix filter in python\n",
    "* Learn how to use tf.nn.conv2d"
   ]
  },
  {
   "cell_type": "markdown",
   "metadata": {},
   "source": [
    "## Read\n",
    "\n",
    "https://arxiv.org/pdf/1603.07285v1.pdf\n",
    "https://docs.gimp.org/en/plug-in-convmatrix.html"
   ]
  },
  {
   "cell_type": "code",
   "execution_count": 1,
   "metadata": {
    "collapsed": false
   },
   "outputs": [],
   "source": [
    "import tensorflow as tf\n",
    "import matplotlib.pyplot as plt\n",
    "import numpy as np"
   ]
  },
  {
   "cell_type": "code",
   "execution_count": 2,
   "metadata": {
    "collapsed": false
   },
   "outputs": [
    {
     "data": {
      "text/plain": [
       "'0.12.1'"
      ]
     },
     "execution_count": 2,
     "metadata": {},
     "output_type": "execute_result"
    }
   ],
   "source": [
    "tf.__version__"
   ]
  },
  {
   "cell_type": "markdown",
   "metadata": {},
   "source": [
    "## Load data\n",
    "<img align=\"left\" src=\"files/old.png\"> **Old Code**"
   ]
  },
  {
   "cell_type": "code",
   "execution_count": 3,
   "metadata": {
    "collapsed": false
   },
   "outputs": [
    {
     "name": "stdout",
     "output_type": "stream",
     "text": [
      "Extracting data/MNIST/train-images-idx3-ubyte.gz\n",
      "Extracting data/MNIST/train-labels-idx1-ubyte.gz\n",
      "Extracting data/MNIST/t10k-images-idx3-ubyte.gz\n",
      "Extracting data/MNIST/t10k-labels-idx1-ubyte.gz\n"
     ]
    }
   ],
   "source": [
    "from tensorflow.examples.tutorials.mnist import input_data\n",
    "data = input_data.read_data_sets(\"data/MNIST/\", one_hot=True)"
   ]
  },
  {
   "cell_type": "markdown",
   "metadata": {},
   "source": [
    "## Get the first 10 images\n",
    "<img align=\"left\" src=\"files/new.png\"> **New Code**"
   ]
  },
  {
   "cell_type": "code",
   "execution_count": 4,
   "metadata": {
    "collapsed": true
   },
   "outputs": [],
   "source": [
    "x_batch, y_true_batch = data.train.next_batch(10)\n",
    "x = tf.reshape(x_batch, [-1, 28, 28, 1])"
   ]
  },
  {
   "cell_type": "markdown",
   "metadata": {},
   "source": [
    "## Helper function: plot the result\n",
    "\n",
    "<img align=\"left\" src=\"files/new.png\"> **New Code:** It is using matplotlib to plot the images"
   ]
  },
  {
   "cell_type": "code",
   "execution_count": 5,
   "metadata": {
    "collapsed": false
   },
   "outputs": [],
   "source": [
    "def plot_img(img,size,channels,max_number): \n",
    "    \n",
    "    # create a new figure channels * image\n",
    "    # squeeze=False, because we want the Axes object to always be a 2D array so we can generalize the code bellow\n",
    "    fig, ax = plt.subplots(channels ,max_number, squeeze=False)\n",
    "    \n",
    "    # iterate through images and channels\n",
    "    for j in range(0,max_number):\n",
    "        for i in range(0,channels):\n",
    "                        \n",
    "            # transpose twice so we can extract the channel that we want to plot\n",
    "            temp_img = img[j].transpose()         \n",
    "            ax[i][j].imshow(temp_img[i].transpose().reshape((size, size)), cmap='gray', interpolation='nearest')\n",
    "        \n",
    "            # hide ticks for a cleaner output\n",
    "            ax[i][j].get_xaxis().set_visible(False)\n",
    "            ax[i][j].get_yaxis().set_visible(False)\n",
    "\n",
    "    plt.show()"
   ]
  },
  {
   "cell_type": "markdown",
   "metadata": {},
   "source": [
    "Test the helper function with the first batch of images"
   ]
  },
  {
   "cell_type": "code",
   "execution_count": 6,
   "metadata": {
    "collapsed": false
   },
   "outputs": [
    {
     "data": {
      "image/png": "[encoded data removed]",
      "text/plain": [
       "<matplotlib.figure.Figure at 0x7ff8bae36190>"
      ]
     },
     "metadata": {},
     "output_type": "display_data"
    }
   ],
   "source": [
    "sess = tf.Session()\n",
    "\n",
    "plot_img(sess.run(x),28,1,10)"
   ]
  },
  {
   "cell_type": "markdown",
   "metadata": {},
   "source": [
    "## Filter in python"
   ]
  },
  {
   "cell_type": "markdown",
   "metadata": {},
   "source": [
    "<img align=\"left\" src=\"files/new.png\"> **New Code:** this part can be skipped, just an execrcise"
   ]
  },
  {
   "cell_type": "code",
   "execution_count": 7,
   "metadata": {
    "collapsed": false
   },
   "outputs": [],
   "source": [
    "def python_filter(input, image_size, filter_size):\n",
    "    \n",
    "    # FOR SIMPLICITY\n",
    "    \n",
    "    # images have 1 channel\n",
    "    # filter_size is assumed odd\n",
    "    # filter is a square\n",
    "    # filter is an array of 1s\n",
    "    \n",
    "    output = []\n",
    "    \n",
    "   \n",
    "    \n",
    "    for k in range(0,len(input)):\n",
    "    \n",
    "        image = np_img[k].reshape((image_size, image_size))\n",
    "    \n",
    "        offset = (filter_size-1)/2\n",
    "        padding = filter_size - 1\n",
    "    \n",
    "        padded_image = np.zeros([len(image)+padding,len(image)+padding])    \n",
    "        padded_image[offset:image.shape[0]+offset,offset:image.shape[1]+offset] = image\n",
    "    \n",
    "        result = np.zeros_like(padded_image, dtype=np.float64)\n",
    "        \n",
    "        \n",
    "        \n",
    "        \n",
    "    \n",
    "        for i in range(offset,len(padded_image)-offset):\n",
    "            for j in range(offset,len(padded_image[i])-offset):\n",
    "                for m in range(i-offset,i+offset):\n",
    "                    for n in range(j-offset,j+offset):\n",
    "                        result[i][j] = result[i][j] + padded_image[m][n]/(filter_size*filter_size)\n",
    "     \n",
    "        \n",
    "        a = result[offset:image.shape[0]+offset,offset:image.shape[1]+offset]        \n",
    "        \n",
    "        a = a.reshape((image_size, image_size, 1))\n",
    "        \n",
    "        output.append(a)\n",
    "        \n",
    "    return output"
   ]
  },
  {
   "cell_type": "markdown",
   "metadata": {},
   "source": [
    "Test the filter"
   ]
  },
  {
   "cell_type": "code",
   "execution_count": 8,
   "metadata": {
    "collapsed": false
   },
   "outputs": [],
   "source": [
    "np_img = sess.run(x)"
   ]
  },
  {
   "cell_type": "code",
   "execution_count": 9,
   "metadata": {
    "collapsed": false
   },
   "outputs": [
    {
     "data": {
      "image/png": "[encoded data removed]",
      "text/plain": [
       "<matplotlib.figure.Figure at 0x7ff8b775d5d0>"
      ]
     },
     "metadata": {},
     "output_type": "display_data"
    }
   ],
   "source": [
    "plot_img(np_img,28,1,5)"
   ]
  },
  {
   "cell_type": "code",
   "execution_count": 10,
   "metadata": {
    "collapsed": false
   },
   "outputs": [],
   "source": [
    "filtered = python_filter(np_img, 28, 5)"
   ]
  },
  {
   "cell_type": "code",
   "execution_count": 11,
   "metadata": {
    "collapsed": false
   },
   "outputs": [
    {
     "name": "stdout",
     "output_type": "stream",
     "text": [
      "(10, 28, 28, 1)\n"
     ]
    }
   ],
   "source": [
    "print np.shape(filtered)"
   ]
  },
  {
   "cell_type": "code",
   "execution_count": 12,
   "metadata": {
    "collapsed": false
   },
   "outputs": [
    {
     "data": {
      "image/png": "[encoded data removed]",
      "text/plain": [
       "<matplotlib.figure.Figure at 0x7ff8b774dcd0>"
      ]
     },
     "metadata": {},
     "output_type": "display_data"
    }
   ],
   "source": [
    "plot_img(filtered,28,1,5)"
   ]
  },
  {
   "cell_type": "markdown",
   "metadata": {},
   "source": [
    "## Use the Tensorflow tf.nn.conv2d for applying a filter\n",
    "\n",
    "<img align=\"left\" src=\"files/new.png\"> **New Code:**"
   ]
  },
  {
   "cell_type": "code",
   "execution_count": 13,
   "metadata": {
    "collapsed": true
   },
   "outputs": [],
   "source": [
    "def filter(input, filter_size, in_channels, out_channels):\n",
    "\n",
    "    filter_shape = [filter_size, filter_size, in_channels, out_channels]\n",
    "    \n",
    "    filter = tf.ones(filter_shape)\n",
    "    \n",
    "    output = tf.nn.conv2d(input, filter, strides=[1, 1, 1, 1], padding='SAME')\n",
    "    \n",
    "    return output"
   ]
  },
  {
   "cell_type": "markdown",
   "metadata": {},
   "source": [
    "Test the filter"
   ]
  },
  {
   "cell_type": "code",
   "execution_count": 14,
   "metadata": {
    "collapsed": false
   },
   "outputs": [
    {
     "data": {
      "image/png": "[encoded data removed]",
      "text/plain": [
       "<matplotlib.figure.Figure at 0x7ff87848c310>"
      ]
     },
     "metadata": {},
     "output_type": "display_data"
    }
   ],
   "source": [
    "filtered_image = filter(x, 5, 1, 1)\n",
    "\n",
    "sess.run(tf.global_variables_initializer())\n",
    "plot_img(sess.run(filtered_image),28,1,5)"
   ]
  },
  {
   "cell_type": "markdown",
   "metadata": {},
   "source": [
    "## Add bias\n",
    "<img align=\"left\" src=\"files/modified.png\"> **Modified:**"
   ]
  },
  {
   "cell_type": "code",
   "execution_count": 15,
   "metadata": {
    "collapsed": true
   },
   "outputs": [],
   "source": [
    "def filter(input, filter_size, in_channels, out_channels):\n",
    "\n",
    "    filter_shape = [filter_size, filter_size, in_channels, out_channels]\n",
    "    biases_shape = [out_channels]    \n",
    "    \n",
    "    filter = tf.ones(filter_shape)\n",
    "    biases = tf.ones(biases_shape)\n",
    "    \n",
    "    output = tf.nn.conv2d(input, filter, strides=[1, 1, 1, 1], padding='SAME') + biases\n",
    "    \n",
    "    return output"
   ]
  },
  {
   "cell_type": "code",
   "execution_count": 16,
   "metadata": {
    "collapsed": false
   },
   "outputs": [
    {
     "data": {
      "image/png": "[encoded data removed]",
      "text/plain": [
       "<matplotlib.figure.Figure at 0x7ff87848c250>"
      ]
     },
     "metadata": {},
     "output_type": "display_data"
    }
   ],
   "source": [
    "filtered_image = filter(x, 5, 1, 1)\n",
    "\n",
    "sess.run(tf.global_variables_initializer())\n",
    "plot_img(sess.run(filtered_image),28,1,5)"
   ]
  },
  {
   "cell_type": "markdown",
   "metadata": {},
   "source": [
    "## Randomly initiated filter\n",
    "\n",
    "<img align=\"left\" src=\"files/modified.png\"> **Modified:**"
   ]
  },
  {
   "cell_type": "code",
   "execution_count": 17,
   "metadata": {
    "collapsed": true
   },
   "outputs": [],
   "source": [
    "def filter(input, filter_size, in_channels, out_channels):\n",
    "\n",
    "    filter_shape = [filter_size, filter_size, in_channels, out_channels]\n",
    "    biases_shape = [out_channels]    \n",
    "    \n",
    "    filter = tf.Variable(tf.truncated_normal(filter_shape))\n",
    "    biases = tf.Variable(tf.truncated_normal(biases_shape))\n",
    "    \n",
    "    output = tf.nn.conv2d(input, filter, strides=[1, 1, 1, 1], padding='SAME') + biases\n",
    "    \n",
    "    return output"
   ]
  },
  {
   "cell_type": "markdown",
   "metadata": {},
   "source": [
    "Test the filter"
   ]
  },
  {
   "cell_type": "code",
   "execution_count": 18,
   "metadata": {
    "collapsed": false
   },
   "outputs": [
    {
     "data": {
      "image/png": "[encoded data removed]",
      "text/plain": [
       "<matplotlib.figure.Figure at 0x7ff87843bb50>"
      ]
     },
     "metadata": {},
     "output_type": "display_data"
    }
   ],
   "source": [
    "filtered_image = filter(x, 5, 1, 1)\n",
    "\n",
    "sess.run(tf.global_variables_initializer())\n",
    "plot_img(sess.run(filtered_image),28,1,5)"
   ]
  },
  {
   "cell_type": "markdown",
   "metadata": {},
   "source": [
    "## Deeper filter\n",
    "\n",
    "<img align=\"left\" src=\"files/old.png\"> **Same code:**"
   ]
  },
  {
   "cell_type": "code",
   "execution_count": 19,
   "metadata": {
    "collapsed": false
   },
   "outputs": [
    {
     "data": {
      "image/png": "[encoded data removed]",
      "text/plain": [
       "<matplotlib.figure.Figure at 0x7ff8b2e88d10>"
      ]
     },
     "metadata": {},
     "output_type": "display_data"
    }
   ],
   "source": [
    "filtered_image = filter(x, 5, 1, 4)\n",
    "\n",
    "sess.run(tf.global_variables_initializer())\n",
    "plot_img(sess.run(filtered_image),28,4,5)"
   ]
  }
 ],
 "metadata": {
  "kernelspec": {
   "display_name": "Python 2",
   "language": "python",
   "name": "python2"
  },
  "language_info": {
   "codemirror_mode": {
    "name": "ipython",
    "version": 2
   },
   "file_extension": ".py",
   "mimetype": "text/x-python",
   "name": "python",
   "nbconvert_exporter": "python",
   "pygments_lexer": "ipython2",
   "version": "2.7.12+"
  }
 },
 "nbformat": 4,
 "nbformat_minor": 2
}
