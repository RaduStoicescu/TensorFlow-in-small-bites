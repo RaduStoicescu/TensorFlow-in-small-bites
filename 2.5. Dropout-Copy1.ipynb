{
 "cells": [
  {
   "cell_type": "markdown",
   "metadata": {},
   "source": [
    "# Dropout"
   ]
  },
  {
   "cell_type": "markdown",
   "metadata": {
    "collapsed": true
   },
   "source": [
    "## Objectives"
   ]
  },
  {
   "cell_type": "code",
   "execution_count": 1,
   "metadata": {
    "collapsed": true
   },
   "outputs": [],
   "source": [
    "import tensorflow as tf\n",
    "import matplotlib.pyplot as plt\n",
    "import numpy as np\n",
    "\n",
    "import matplotlib.pyplot as plt\n",
    "from sklearn.model_selection import train_test_split"
   ]
  },
  {
   "cell_type": "code",
   "execution_count": 2,
   "metadata": {
    "collapsed": false
   },
   "outputs": [
    {
     "data": {
      "text/plain": [
       "'0.12.1'"
      ]
     },
     "execution_count": 2,
     "metadata": {},
     "output_type": "execute_result"
    }
   ],
   "source": [
    "tf.__version__"
   ]
  },
  {
   "cell_type": "markdown",
   "metadata": {},
   "source": [
    "<img align=\"left\" src=\"files/old.png\"> **Load data**"
   ]
  },
  {
   "cell_type": "code",
   "execution_count": 3,
   "metadata": {
    "collapsed": false
   },
   "outputs": [
    {
     "name": "stdout",
     "output_type": "stream",
     "text": [
      "Extracting data/MNIST/train-images-idx3-ubyte.gz\n",
      "Extracting data/MNIST/train-labels-idx1-ubyte.gz\n",
      "Extracting data/MNIST/t10k-images-idx3-ubyte.gz\n",
      "Extracting data/MNIST/t10k-labels-idx1-ubyte.gz\n"
     ]
    }
   ],
   "source": [
    "from tensorflow.examples.tutorials.mnist import input_data\n",
    "data = input_data.read_data_sets('data/MNIST/', one_hot=True)"
   ]
  },
  {
   "cell_type": "code",
   "execution_count": 4,
   "metadata": {
    "collapsed": true
   },
   "outputs": [],
   "source": [
    "xtr = data.train.images\n",
    "ytr = data.train.labels\n",
    "\n",
    "xte = data.test.images\n",
    "yte = data.test.labels\n",
    "\n",
    "xva = data.validation.images\n",
    "yva = data.validation.labels"
   ]
  },
  {
   "cell_type": "markdown",
   "metadata": {},
   "source": [
    "<img align=\"left\" src=\"files/old.png\"> **Convolutional layer**"
   ]
  },
  {
   "cell_type": "code",
   "execution_count": 5,
   "metadata": {
    "collapsed": true
   },
   "outputs": [],
   "source": [
    "def convolutional_layer(input, filter_size, in_channels, out_channels, conv_strides, pool_kernel, pool_strides):\n",
    "\n",
    "    filter_shape = [filter_size, filter_size, in_channels, out_channels]\n",
    "    biases_shape = [out_channels]\n",
    "    \n",
    "    filter = tf.Variable(tf.truncated_normal(filter_shape))\n",
    "    biases = tf.Variable(tf.truncated_normal(biases_shape))\n",
    "    \n",
    "    result = tf.nn.conv2d(input, filter, strides=conv_strides, padding='SAME') + biases\n",
    "    result = tf.nn.max_pool(value=result,ksize=pool_kernel,strides=pool_strides,padding='SAME')\n",
    "    result = tf.nn.relu(result)\n",
    "    \n",
    "    return result"
   ]
  },
  {
   "cell_type": "markdown",
   "metadata": {},
   "source": [
    "<img align=\"left\" src=\"files/old.png\"> **Flatten the layer**"
   ]
  },
  {
   "cell_type": "code",
   "execution_count": 6,
   "metadata": {
    "collapsed": true
   },
   "outputs": [],
   "source": [
    "def flatten_layer(input):\n",
    "    \n",
    "    layer_shape = input.get_shape()\n",
    "    num_features = layer_shape[1:4].num_elements()\n",
    "    layer_flat = tf.reshape(input, [-1, num_features])\n",
    "    \n",
    "    return layer_flat, num_features"
   ]
  },
  {
   "cell_type": "markdown",
   "metadata": {},
   "source": [
    "<img align=\"left\" src=\"files/old.png\"> **Fully connected layer**"
   ]
  },
  {
   "cell_type": "code",
   "execution_count": 7,
   "metadata": {
    "collapsed": false
   },
   "outputs": [],
   "source": [
    "def fully_connected_layer(input, num_features, num_outputs):\n",
    "    \n",
    "    weights = tf.Variable(tf.truncated_normal([num_features, num_outputs], stddev=0.05))\n",
    "    biases = tf.Variable(tf.constant(0.05, shape=[num_outputs]))\n",
    "\n",
    "    output = tf.matmul(input, weights) + biases\n",
    "    \n",
    "    return output"
   ]
  },
  {
   "cell_type": "markdown",
   "metadata": {},
   "source": [
    "<img align=\"left\" src=\"files/modified.png\"> **Optimize:** pass the keep_prob rate as a parameter"
   ]
  },
  {
   "cell_type": "code",
   "execution_count": 8,
   "metadata": {
    "collapsed": true
   },
   "outputs": [],
   "source": [
    "def optimize(optimizer, l_rate, keep_probability, iterations, x_train, y_train, batch_size):\n",
    "    \n",
    "    for i in range(0,iterations):  \n",
    "        x1, x2, y1, y2 = train_test_split(x_train, y_train, train_size=batch_size, random_state=i)        \n",
    "        sess.run(optimizer, feed_dict = {x: x1, y: y1, learning_rate: l_rate, keep_prob: keep_probability})"
   ]
  },
  {
   "cell_type": "markdown",
   "metadata": {},
   "source": [
    "<img align=\"left\" src=\"files/modified.png\"> **Test accuracy:** pass the keep_prob as 1"
   ]
  },
  {
   "cell_type": "code",
   "execution_count": 9,
   "metadata": {
    "collapsed": false
   },
   "outputs": [],
   "source": [
    "def test_accuracy(logits,x_data,y_data):\n",
    "    \n",
    "    y_pred = tf.nn.softmax(logits)\n",
    "    \n",
    "    y_pred_cls = tf.argmax(y_pred, dimension=1)\n",
    "    y_true_cls = tf.argmax(y, dimension=1)\n",
    "\n",
    "    prediction = tf.equal(y_pred_cls, y_true_cls)    \n",
    "    \n",
    "    num_examples = len(x_data)\n",
    "    batch_size = 8192\n",
    "    all_predictions = []\n",
    "    \n",
    "    for offset in range(0, num_examples, batch_size):\n",
    "        batch_x, batch_y = x_data[offset:offset+batch_size], y_data[offset:offset+batch_size]\n",
    "        all_predictions.extend(sess.run(prediction, feed_dict = {x: batch_x, y: batch_y, keep_prob: 1})) \n",
    "    \n",
    "    return np.mean(all_predictions)"
   ]
  },
  {
   "cell_type": "markdown",
   "metadata": {},
   "source": [
    "## Build the computational graph using the defined functions"
   ]
  },
  {
   "cell_type": "code",
   "execution_count": 10,
   "metadata": {
    "collapsed": false
   },
   "outputs": [],
   "source": [
    "x = tf.placeholder(tf.float32, [None, 784])\n",
    "y = tf.placeholder(tf.float32, [None, 10])\n",
    "\n",
    "learning_rate = tf.placeholder(tf.float32)\n",
    "keep_prob = tf.placeholder(tf.float32)\n",
    "\n",
    "x_2d = tf.reshape(x, [-1, 28, 28, 1])\n",
    "\n",
    "conv_1_out = convolutional_layer(x_2d, 5, 1, 32, [1, 1, 1, 1], [1, 2, 2, 1], [1, 2, 2, 1])\n",
    "conv_2_out = convolutional_layer(conv_1_out, 5, 32, 64, [1, 1, 1, 1], [1, 2, 2, 1], [1, 2, 2, 1])\n",
    "\n",
    "layer_flat, num_features = flatten_layer(conv_2_out)\n",
    "\n",
    "layer_1 = fully_connected_layer(layer_flat, num_features, 512)\n",
    "layer_1 = tf.nn.relu(layer_1)\n",
    "\n",
    "layer_1   = tf.nn.dropout(layer_1, keep_prob)\n",
    "\n",
    "logits = fully_connected_layer(layer_1, 512, 10)\n",
    "\n",
    "cross_entropy = tf.nn.softmax_cross_entropy_with_logits(logits,y)\n",
    "cost = tf.reduce_mean(cross_entropy)\n",
    "\n",
    "grad = tf.train.GradientDescentOptimizer(learning_rate).minimize(cost)\n",
    "adam = tf.train.AdamOptimizer(learning_rate).minimize(cost)"
   ]
  },
  {
   "cell_type": "markdown",
   "metadata": {},
   "source": [
    "<img align=\"left\" src=\"files/modified.png\"> **Add keep rate support**"
   ]
  },
  {
   "cell_type": "code",
   "execution_count": 11,
   "metadata": {
    "collapsed": false
   },
   "outputs": [],
   "source": [
    "def run_training(logits, optimizer, l_rate, keep, tick_size, n_ticks, xtr, ytr, xte, yte, train_batch, verbose):\n",
    "    \n",
    "    sess.run(tf.global_variables_initializer())\n",
    "    \n",
    "    result = [[],[],[],0]\n",
    "\n",
    "    for i in range(1,n_ticks+1):    \n",
    "        optimize(optimizer, l_rate, keep, tick_size, xtr, ytr, train_batch)        \n",
    "        tr_a = test_accuracy(logits,xtr,ytr)\n",
    "        te_a = test_accuracy(logits,xte,yte)\n",
    "        result[0].append(tr_a)\n",
    "        result[1].append(te_a)\n",
    "        result[2].append(i*tick_size)\n",
    "        if verbose:\n",
    "            print i, tr_a, te_a\n",
    "    result[3] = test_accuracy(logits,xva,yva)\n",
    "    return result"
   ]
  },
  {
   "cell_type": "code",
   "execution_count": 12,
   "metadata": {
    "collapsed": true
   },
   "outputs": [],
   "source": [
    "sess = tf.Session()"
   ]
  },
  {
   "cell_type": "code",
   "execution_count": 13,
   "metadata": {
    "collapsed": true
   },
   "outputs": [],
   "source": [
    "batch = 512\n",
    "tick = 1000\n",
    "n_ticks = 20\n",
    "verb = 0"
   ]
  },
  {
   "cell_type": "code",
   "execution_count": 14,
   "metadata": {
    "collapsed": false
   },
   "outputs": [],
   "source": [
    "gr_r1, gr_e1, gr_t1, gr_v1 = run_training(logits, grad, 10**-2, 1.0, tick, n_ticks, xtr, ytr, xte, yte, batch, verb)"
   ]
  },
  {
   "cell_type": "code",
   "execution_count": 15,
   "metadata": {
    "collapsed": false
   },
   "outputs": [],
   "source": [
    "gr_r2, gr_e2, gr_t2, gr_v2 = run_training(logits, grad, 10**-2, 0.8, tick, n_ticks, xtr, ytr, xte, yte, batch, verb)"
   ]
  },
  {
   "cell_type": "code",
   "execution_count": 16,
   "metadata": {
    "collapsed": false
   },
   "outputs": [],
   "source": [
    "gr_r3, gr_e3, gr_t3, gr_v3 = run_training(logits, grad, 10**-2, 0.6, tick, n_ticks, xtr, ytr, xte, yte, batch, verb)"
   ]
  },
  {
   "cell_type": "code",
   "execution_count": 17,
   "metadata": {
    "collapsed": false
   },
   "outputs": [],
   "source": [
    "gr_r4, gr_e4, gr_t4, gr_v4 = run_training(logits, grad, 10**-2, 0.4, tick, n_ticks, xtr, ytr, xte, yte, batch, verb)"
   ]
  },
  {
   "cell_type": "code",
   "execution_count": 18,
   "metadata": {
    "collapsed": false
   },
   "outputs": [
    {
     "data": {
      "image/png": "[encoded data removed]",
      "text/plain": [
       "<matplotlib.figure.Figure at 0x7f0c887037d0>"
      ]
     },
     "metadata": {},
     "output_type": "display_data"
    }
   ],
   "source": [
    "plt.plot(gr_t1,gr_e1, label='Gradient Descent 1.0')\n",
    "plt.plot(gr_t2,gr_e2, label='Gradient Descent 0.8')\n",
    "plt.plot(gr_t3,gr_e3, label='Gradient Descent 0.6')\n",
    "plt.plot(gr_t4,gr_e4, label='Gradient Descent 0.4')\n",
    "plt.legend()\n",
    "plt.show()"
   ]
  },
  {
   "cell_type": "code",
   "execution_count": 19,
   "metadata": {
    "collapsed": false
   },
   "outputs": [],
   "source": [
    "ad_r1, ad_e1, ad_t1, ad_v1 = run_training(logits, adam, 10**-4, 1.0, tick, n_ticks, xtr, ytr, xte, yte, batch, verb)"
   ]
  },
  {
   "cell_type": "code",
   "execution_count": 20,
   "metadata": {
    "collapsed": false
   },
   "outputs": [],
   "source": [
    "ad_r2, ad_e2, ad_t2, ad_v2 = run_training(logits, adam, 10**-4, 0.8, tick, n_ticks, xtr, ytr, xte, yte, batch, verb)"
   ]
  },
  {
   "cell_type": "code",
   "execution_count": 21,
   "metadata": {
    "collapsed": false
   },
   "outputs": [],
   "source": [
    "ad_r3, ad_e3, ad_t3, ad_v3 = run_training(logits, adam, 10**-4, 0.6, tick, n_ticks, xtr, ytr, xte, yte, batch, verb)"
   ]
  },
  {
   "cell_type": "code",
   "execution_count": 22,
   "metadata": {
    "collapsed": false
   },
   "outputs": [],
   "source": [
    "ad_r4, ad_e4, ad_t4, ad_v4 = run_training(logits, adam, 10**-4, 0.4, tick, n_ticks, xtr, ytr, xte, yte, batch, verb)"
   ]
  },
  {
   "cell_type": "code",
   "execution_count": 23,
   "metadata": {
    "collapsed": false
   },
   "outputs": [
    {
     "data": {
      "image/png": "[encoded data removed]",
      "text/plain": [
       "<matplotlib.figure.Figure at 0x7f0c8042a850>"
      ]
     },
     "metadata": {},
     "output_type": "display_data"
    }
   ],
   "source": [
    "plt.plot(ad_t1,ad_e1, label='Adam 1.0')\n",
    "plt.plot(ad_t2,ad_e2, label='Adam 0.8')\n",
    "plt.plot(ad_t3,ad_e3, label='Adam 0.6')\n",
    "plt.plot(ad_t4,ad_e4, label='Adam 0.4')\n",
    "plt.legend()\n",
    "plt.show()"
   ]
  },
  {
   "cell_type": "code",
   "execution_count": 24,
   "metadata": {
    "collapsed": false
   },
   "outputs": [
    {
     "data": {
      "image/png": "[encoded data removed]",
      "text/plain": [
       "<matplotlib.figure.Figure at 0x7f0c80302750>"
      ]
     },
     "metadata": {},
     "output_type": "display_data"
    }
   ],
   "source": [
    "plt.plot(gr_t4,gr_e4, label='Gradient Descent 0.4')\n",
    "plt.plot(ad_t4,ad_e4, label='Adam 0.4')\n",
    "plt.legend()\n",
    "plt.show()"
   ]
  },
  {
   "cell_type": "code",
   "execution_count": 25,
   "metadata": {
    "collapsed": false
   },
   "outputs": [
    {
     "data": {
      "text/plain": [
       "(0.97960000000000003,\n",
       " 0.98519999999999996,\n",
       " 0.98599999999999999,\n",
       " 0.98640000000000005)"
      ]
     },
     "execution_count": 25,
     "metadata": {},
     "output_type": "execute_result"
    }
   ],
   "source": [
    "gr_v1, gr_v2, gr_v3, gr_v4"
   ]
  },
  {
   "cell_type": "code",
   "execution_count": 26,
   "metadata": {
    "collapsed": false
   },
   "outputs": [
    {
     "data": {
      "text/plain": [
       "(0.99039999999999995,\n",
       " 0.99039999999999995,\n",
       " 0.98999999999999999,\n",
       " 0.98960000000000004)"
      ]
     },
     "execution_count": 26,
     "metadata": {},
     "output_type": "execute_result"
    }
   ],
   "source": [
    "ad_v1, ad_v2, ad_v3, ad_v4"
   ]
  }
 ],
 "metadata": {
  "kernelspec": {
   "display_name": "Python 2",
   "language": "python",
   "name": "python2"
  },
  "language_info": {
   "codemirror_mode": {
    "name": "ipython",
    "version": 2
   },
   "file_extension": ".py",
   "mimetype": "text/x-python",
   "name": "python",
   "nbconvert_exporter": "python",
   "pygments_lexer": "ipython2",
   "version": "2.7.12+"
  }
 },
 "nbformat": 4,
 "nbformat_minor": 2
}
