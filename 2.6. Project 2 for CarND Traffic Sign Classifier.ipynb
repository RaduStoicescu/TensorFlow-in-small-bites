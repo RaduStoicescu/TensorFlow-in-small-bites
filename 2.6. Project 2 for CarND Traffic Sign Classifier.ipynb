{
 "cells": [
  {
   "cell_type": "markdown",
   "metadata": {},
   "source": [
    "# Project 2 for CarND: Traffic Sign Classifier"
   ]
  },
  {
   "cell_type": "markdown",
   "metadata": {
    "collapsed": true
   },
   "source": [
    "## Objectives\n",
    "- use the same notebook used for MNIST database to classify traffic signs\n",
    "- use a new function to normalize the imput\n",
    "- investigate the classification accuracy for Adam Optimizer and Gradient Descent for a range of drop rates and learning rates"
   ]
  },
  {
   "cell_type": "code",
   "execution_count": 1,
   "metadata": {
    "collapsed": true
   },
   "outputs": [],
   "source": [
    "import tensorflow as tf\n",
    "import matplotlib.pyplot as plt\n",
    "import numpy as np\n",
    "import pickle\n",
    "import cv2\n",
    "\n",
    "import matplotlib.pyplot as plt\n",
    "from sklearn.model_selection import train_test_split\n",
    "from sklearn.preprocessing import LabelBinarizer"
   ]
  },
  {
   "cell_type": "code",
   "execution_count": 2,
   "metadata": {
    "collapsed": false
   },
   "outputs": [
    {
     "data": {
      "text/plain": [
       "'0.12.1'"
      ]
     },
     "execution_count": 2,
     "metadata": {},
     "output_type": "execute_result"
    }
   ],
   "source": [
    "tf.__version__"
   ]
  },
  {
   "cell_type": "markdown",
   "metadata": {},
   "source": [
    "<img align=\"left\" src=\"files/old.png\"> **Load data**"
   ]
  },
  {
   "cell_type": "code",
   "execution_count": 3,
   "metadata": {
    "collapsed": false
   },
   "outputs": [],
   "source": [
    "training_file = './data/train2.p'\n",
    "testing_file = './data/test2.p'\n",
    "\n",
    "with open(training_file, mode='rb') as f:\n",
    "    train = pickle.load(f)\n",
    "with open(testing_file, mode='rb') as f:\n",
    "    test = pickle.load(f)"
   ]
  },
  {
   "cell_type": "markdown",
   "metadata": {},
   "source": [
    "<img align=\"left\" src=\"files/old.png\"> **Standardize naming** "
   ]
  },
  {
   "cell_type": "code",
   "execution_count": 4,
   "metadata": {
    "collapsed": true
   },
   "outputs": [],
   "source": [
    "xtr = train['features']\n",
    "ytr = train['labels']\n",
    "\n",
    "xva, xte, yva, yte = train_test_split(test['features'], test['labels'], test_size=0.5)"
   ]
  },
  {
   "cell_type": "markdown",
   "metadata": {},
   "source": [
    "<img align=\"left\" src=\"files/old.png\"> **One hot encoding**"
   ]
  },
  {
   "cell_type": "code",
   "execution_count": 5,
   "metadata": {
    "collapsed": false
   },
   "outputs": [],
   "source": [
    "encoder = LabelBinarizer()\n",
    "encoder.fit(ytr)\n",
    "ytr = encoder.transform(ytr).astype(float)\n",
    "yte = encoder.transform(yte).astype(float)\n",
    "yva = encoder.transform(yva).astype(float)"
   ]
  },
  {
   "cell_type": "markdown",
   "metadata": {},
   "source": [
    "<img align=\"left\" src=\"files/new.png\"> **Normalize the input**"
   ]
  },
  {
   "cell_type": "code",
   "execution_count": 6,
   "metadata": {
    "collapsed": true
   },
   "outputs": [],
   "source": [
    "def normalize(x_in,y_in):\n",
    "    \n",
    "    x_out = []\n",
    "    y_out = []\n",
    "    for i, (image, label) in enumerate(zip(x_in, y_in)):\n",
    "        zeros = np.zeros((32,32,3))\n",
    "        norm_image = cv2.normalize(image, zeros, alpha=0, beta=1, norm_type=cv2.NORM_MINMAX, dtype=cv2.CV_32F)\n",
    "        x_out.append(norm_image)\n",
    "        y_out.append(label)\n",
    "\n",
    "    return x_out, y_out"
   ]
  },
  {
   "cell_type": "code",
   "execution_count": 7,
   "metadata": {
    "collapsed": false
   },
   "outputs": [],
   "source": [
    "xtr, ytr = normalize(xtr,ytr)\n",
    "xte, yte = normalize(xte,yte)\n",
    "xva, yva = normalize(xva,yva)"
   ]
  },
  {
   "cell_type": "markdown",
   "metadata": {},
   "source": [
    "<img align=\"left\" src=\"files/old.png\"> **Convolutional layer**"
   ]
  },
  {
   "cell_type": "code",
   "execution_count": 8,
   "metadata": {
    "collapsed": true
   },
   "outputs": [],
   "source": [
    "def convolutional_layer(input, filter_size, in_channels, out_channels, conv_strides, pool_kernel, pool_strides):\n",
    "\n",
    "    filter_shape = [filter_size, filter_size, in_channels, out_channels]\n",
    "    biases_shape = [out_channels]\n",
    "    \n",
    "    filter = tf.Variable(tf.truncated_normal(filter_shape))\n",
    "    biases = tf.Variable(tf.truncated_normal(biases_shape))\n",
    "    \n",
    "    result = tf.nn.conv2d(input, filter, strides=conv_strides, padding='SAME') + biases\n",
    "    result = tf.nn.max_pool(value=result,ksize=pool_kernel,strides=pool_strides,padding='SAME')\n",
    "    result = tf.nn.relu(result)\n",
    "    \n",
    "    return result"
   ]
  },
  {
   "cell_type": "markdown",
   "metadata": {},
   "source": [
    "<img align=\"left\" src=\"files/old.png\"> **Flatten the layer**"
   ]
  },
  {
   "cell_type": "code",
   "execution_count": 9,
   "metadata": {
    "collapsed": true
   },
   "outputs": [],
   "source": [
    "def flatten_layer(input):\n",
    "    \n",
    "    layer_shape = input.get_shape()\n",
    "    num_features = layer_shape[1:4].num_elements()\n",
    "    layer_flat = tf.reshape(input, [-1, num_features])\n",
    "    \n",
    "    return layer_flat, num_features"
   ]
  },
  {
   "cell_type": "markdown",
   "metadata": {},
   "source": [
    "<img align=\"left\" src=\"files/old.png\"> **Fully connected layer**"
   ]
  },
  {
   "cell_type": "code",
   "execution_count": 10,
   "metadata": {
    "collapsed": false
   },
   "outputs": [],
   "source": [
    "def fully_connected_layer(input, num_features, num_outputs):\n",
    "    \n",
    "    weights = tf.Variable(tf.truncated_normal([num_features, num_outputs], stddev=0.05))\n",
    "    biases = tf.Variable(tf.constant(0.05, shape=[num_outputs]))\n",
    "\n",
    "    output = tf.matmul(input, weights) + biases\n",
    "    \n",
    "    return output"
   ]
  },
  {
   "cell_type": "markdown",
   "metadata": {},
   "source": [
    "<img align=\"left\" src=\"files/old.png\"> **Optimize**"
   ]
  },
  {
   "cell_type": "code",
   "execution_count": 11,
   "metadata": {
    "collapsed": true
   },
   "outputs": [],
   "source": [
    "def optimize(optimizer, l_rate, keep_probability, iterations, x_train, y_train, batch_size):\n",
    "    \n",
    "    for i in range(0,iterations):  \n",
    "        x1, x2, y1, y2 = train_test_split(x_train, y_train, train_size=batch_size, random_state=i)        \n",
    "        sess.run(optimizer, feed_dict = {x: x1, y: y1, learning_rate: l_rate, keep_prob: keep_probability})"
   ]
  },
  {
   "cell_type": "markdown",
   "metadata": {},
   "source": [
    "<img align=\"left\" src=\"files/old.png\"> **Test accuracy**"
   ]
  },
  {
   "cell_type": "code",
   "execution_count": 12,
   "metadata": {
    "collapsed": false
   },
   "outputs": [],
   "source": [
    "def test_accuracy(logits,x_data,y_data):\n",
    "    \n",
    "    y_pred = tf.nn.softmax(logits)\n",
    "    \n",
    "    y_pred_cls = tf.argmax(y_pred, dimension=1)\n",
    "    y_true_cls = tf.argmax(y, dimension=1)\n",
    "\n",
    "    prediction = tf.equal(y_pred_cls, y_true_cls)    \n",
    "    \n",
    "    num_examples = len(x_data)\n",
    "    batch_size = 8192\n",
    "    all_predictions = []\n",
    "    \n",
    "    for offset in range(0, num_examples, batch_size):\n",
    "        batch_x, batch_y = x_data[offset:offset+batch_size], y_data[offset:offset+batch_size]\n",
    "        all_predictions.extend(sess.run(prediction, feed_dict = {x: batch_x, y: batch_y, keep_prob: 1})) \n",
    "    \n",
    "    return np.mean(all_predictions)"
   ]
  },
  {
   "cell_type": "markdown",
   "metadata": {},
   "source": [
    "## Build the computational graph using the defined functions"
   ]
  },
  {
   "cell_type": "code",
   "execution_count": 13,
   "metadata": {
    "collapsed": false
   },
   "outputs": [],
   "source": [
    "x = tf.placeholder(tf.float32, [None, 32, 32, 3])\n",
    "y = tf.placeholder(tf.float32, [None, 43])\n",
    "\n",
    "learning_rate = tf.placeholder(tf.float32)\n",
    "keep_prob = tf.placeholder(tf.float32)\n",
    "\n",
    "conv_1_out = convolutional_layer(x, 5, 3, 32, [1, 1, 1, 1], [1, 2, 2, 1], [1, 2, 2, 1])\n",
    "conv_2_out = convolutional_layer(conv_1_out, 5, 32, 64, [1, 1, 1, 1], [1, 2, 2, 1], [1, 2, 2, 1])\n",
    "\n",
    "layer_flat, num_features = flatten_layer(conv_2_out)\n",
    "\n",
    "layer_1 = fully_connected_layer(layer_flat, num_features, 512)\n",
    "layer_1 = tf.nn.relu(layer_1)\n",
    "\n",
    "layer_1   = tf.nn.dropout(layer_1, keep_prob)\n",
    "\n",
    "logits = fully_connected_layer(layer_1, 512, 43)\n",
    "\n",
    "cross_entropy = tf.nn.softmax_cross_entropy_with_logits(logits,y)\n",
    "cost = tf.reduce_mean(cross_entropy)\n",
    "\n",
    "grad = tf.train.GradientDescentOptimizer(learning_rate).minimize(cost)\n",
    "adam = tf.train.AdamOptimizer(learning_rate).minimize(cost)"
   ]
  },
  {
   "cell_type": "markdown",
   "metadata": {},
   "source": [
    "<img align=\"left\" src=\"files/old.png\"> **Same**"
   ]
  },
  {
   "cell_type": "code",
   "execution_count": 14,
   "metadata": {
    "collapsed": false
   },
   "outputs": [],
   "source": [
    "def run_training(logits, optimizer, l_rate, keep, tick_size, n_ticks, xtr, ytr, xte, yte, train_batch, verbose):\n",
    "    \n",
    "    sess.run(tf.global_variables_initializer())\n",
    "    \n",
    "    result = [[],[],[],0]\n",
    "\n",
    "    for i in range(1,n_ticks+1):    \n",
    "        optimize(optimizer, l_rate, keep, tick_size, xtr, ytr, train_batch)        \n",
    "        tr_a = test_accuracy(logits,xtr,ytr)\n",
    "        te_a = test_accuracy(logits,xte,yte)\n",
    "        result[0].append(tr_a)\n",
    "        result[1].append(te_a)\n",
    "        result[2].append(i*tick_size)\n",
    "        if verbose:\n",
    "            print i, tr_a, te_a\n",
    "    result[3] = test_accuracy(logits,xva,yva)\n",
    "    return result"
   ]
  },
  {
   "cell_type": "code",
   "execution_count": 15,
   "metadata": {
    "collapsed": true
   },
   "outputs": [],
   "source": [
    "sess = tf.Session()"
   ]
  },
  {
   "cell_type": "markdown",
   "metadata": {},
   "source": [
    "## Gradient Descent accuracy rate"
   ]
  },
  {
   "cell_type": "code",
   "execution_count": 16,
   "metadata": {
    "collapsed": true
   },
   "outputs": [],
   "source": [
    "batch = 512\n",
    "tick = 10000\n",
    "n_ticks = 20\n",
    "verb = 0"
   ]
  },
  {
   "cell_type": "code",
   "execution_count": 17,
   "metadata": {
    "collapsed": false
   },
   "outputs": [],
   "source": [
    "gr_r1, gr_e1, gr_t1, gr_v1 = run_training(logits, grad, 10**-2, 1.0, tick, n_ticks, xtr, ytr, xte, yte, batch, verb)"
   ]
  },
  {
   "cell_type": "code",
   "execution_count": 18,
   "metadata": {
    "collapsed": false
   },
   "outputs": [],
   "source": [
    "gr_r2, gr_e2, gr_t2, gr_v2 = run_training(logits, grad, 10**-3, 1.0, tick, n_ticks, xtr, ytr, xte, yte, batch, verb)"
   ]
  },
  {
   "cell_type": "code",
   "execution_count": 19,
   "metadata": {
    "collapsed": false
   },
   "outputs": [],
   "source": [
    "gr_r3, gr_e3, gr_t3, gr_v3 = run_training(logits, grad, 10**-4, 1.0, tick, n_ticks, xtr, ytr, xte, yte, batch, verb)"
   ]
  },
  {
   "cell_type": "code",
   "execution_count": 20,
   "metadata": {
    "collapsed": false
   },
   "outputs": [
    {
     "data": {
      "image/png": "[encoded data removed]",
      "text/plain": [
       "<matplotlib.figure.Figure at 0x7f2a90320990>"
      ]
     },
     "metadata": {},
     "output_type": "display_data"
    }
   ],
   "source": [
    "plt.plot(gr_t1,gr_e1, label='Gradient Descent 0.01')\n",
    "plt.plot(gr_t2,gr_e2, label='Gradient Descent 0.001')\n",
    "plt.plot(gr_t3,gr_e3, label='Gradient Descent 0.0001')\n",
    "plt.legend()\n",
    "plt.show()"
   ]
  },
  {
   "cell_type": "markdown",
   "metadata": {},
   "source": [
    "## Adam Optimizer"
   ]
  },
  {
   "cell_type": "code",
   "execution_count": 21,
   "metadata": {
    "collapsed": false
   },
   "outputs": [],
   "source": [
    "ad_r1, ad_e1, ad_t1, ad_v1 = run_training(logits, adam, 10**-2, 1.0, tick, n_ticks, xtr, ytr, xte, yte, batch, verb)"
   ]
  },
  {
   "cell_type": "code",
   "execution_count": 22,
   "metadata": {
    "collapsed": false
   },
   "outputs": [],
   "source": [
    "ad_r2, ad_e2, ad_t2, ad_v2 = run_training(logits, adam, 10**-3, 1.0, tick, n_ticks, xtr, ytr, xte, yte, batch, verb)"
   ]
  },
  {
   "cell_type": "code",
   "execution_count": 23,
   "metadata": {
    "collapsed": false
   },
   "outputs": [],
   "source": [
    "ad_r3, ad_e3, ad_t3, ad_v3 = run_training(logits, adam, 10**-4, 1.0, tick, n_ticks, xtr, ytr, xte, yte, batch, verb)"
   ]
  },
  {
   "cell_type": "code",
   "execution_count": 24,
   "metadata": {
    "collapsed": false
   },
   "outputs": [
    {
     "data": {
      "image/png": "[encoded data removed]",
      "text/plain": [
       "<matplotlib.figure.Figure at 0x7f2a6dd66290>"
      ]
     },
     "metadata": {},
     "output_type": "display_data"
    }
   ],
   "source": [
    "plt.plot(ad_t1,ad_e1, label='Adam 0.01')\n",
    "plt.plot(ad_t2,ad_e2, label='Adam 0.001')\n",
    "plt.plot(ad_t3,ad_e3, label='Adam 0.0001')\n",
    "plt.legend()\n",
    "plt.show()"
   ]
  },
  {
   "cell_type": "code",
   "execution_count": 25,
   "metadata": {
    "collapsed": false
   },
   "outputs": [
    {
     "data": {
      "text/plain": [
       "(0.84861441013460015, 0.82644497228820268, 0.75692794932699925)"
      ]
     },
     "execution_count": 25,
     "metadata": {},
     "output_type": "execute_result"
    }
   ],
   "source": [
    "gr_v1, gr_v2, gr_v3"
   ]
  },
  {
   "cell_type": "code",
   "execution_count": 26,
   "metadata": {
    "collapsed": false
   },
   "outputs": [
    {
     "data": {
      "text/plain": [
       "(0.90910530482977037, 0.85035629453681705, 0.86603325415676957)"
      ]
     },
     "execution_count": 26,
     "metadata": {},
     "output_type": "execute_result"
    }
   ],
   "source": [
    "ad_v1, ad_v2, ad_v3"
   ]
  },
  {
   "cell_type": "markdown",
   "metadata": {},
   "source": [
    "## Learning rate too high"
   ]
  },
  {
   "cell_type": "code",
   "execution_count": 27,
   "metadata": {
    "collapsed": true
   },
   "outputs": [],
   "source": [
    "batch = 512\n",
    "tick = 10000\n",
    "n_ticks = 10\n",
    "verb = 0"
   ]
  },
  {
   "cell_type": "code",
   "execution_count": 28,
   "metadata": {
    "collapsed": true
   },
   "outputs": [],
   "source": [
    "gr_r4, gr_e4, gr_t4, gr_v4 = run_training(logits, grad, 0.02, 1.0, tick, n_ticks, xtr, ytr, xte, yte, batch, verb)"
   ]
  },
  {
   "cell_type": "code",
   "execution_count": 29,
   "metadata": {
    "collapsed": true
   },
   "outputs": [],
   "source": [
    "ad_r4, ad_e4, ad_t4, ad_v4 = run_training(logits, adam, 0.02, 1.0, tick, n_ticks, xtr, ytr, xte, yte, batch, verb)"
   ]
  },
  {
   "cell_type": "code",
   "execution_count": 30,
   "metadata": {
    "collapsed": false
   },
   "outputs": [
    {
     "data": {
      "image/png": "[encoded data removed]",
      "text/plain": [
       "<matplotlib.figure.Figure at 0x7f2a6dcb3c90>"
      ]
     },
     "metadata": {},
     "output_type": "display_data"
    }
   ],
   "source": [
    "plt.plot(gr_t4,gr_e4, label='Gradient 0.02')\n",
    "plt.plot(ad_t4,ad_e4, label='Adam 0.02')\n",
    "plt.legend()\n",
    "plt.show()"
   ]
  },
  {
   "cell_type": "markdown",
   "metadata": {},
   "source": [
    "## Gradient Descent vs Adam Optimizer at the same learning rate"
   ]
  },
  {
   "cell_type": "code",
   "execution_count": 41,
   "metadata": {
    "collapsed": false
   },
   "outputs": [
    {
     "data": {
      "image/png": "[encoded data removed]",
      "text/plain": [
       "<matplotlib.figure.Figure at 0x7f2a6ca6fc90>"
      ]
     },
     "metadata": {},
     "output_type": "display_data"
    }
   ],
   "source": [
    "plt.plot(gr_t1,gr_e1, label='Gradient 0.01')\n",
    "plt.plot(ad_t1,ad_e1, label='Adam 0.01')\n",
    "plt.legend()\n",
    "plt.show()"
   ]
  },
  {
   "cell_type": "markdown",
   "metadata": {},
   "source": [
    "## Gradient Descent  drop rate"
   ]
  },
  {
   "cell_type": "code",
   "execution_count": 32,
   "metadata": {
    "collapsed": true
   },
   "outputs": [],
   "source": [
    "batch = 512\n",
    "tick = 10000\n",
    "n_ticks = 20\n",
    "verb = 0"
   ]
  },
  {
   "cell_type": "code",
   "execution_count": 33,
   "metadata": {
    "collapsed": true
   },
   "outputs": [],
   "source": [
    "gr_r5, gr_e5, gr_t5, gr_v5 = run_training(logits, grad, 10**-2, 0.8, tick, n_ticks, xtr, ytr, xte, yte, batch, verb)"
   ]
  },
  {
   "cell_type": "code",
   "execution_count": 34,
   "metadata": {
    "collapsed": true
   },
   "outputs": [],
   "source": [
    "gr_r6, gr_e6, gr_t6, gr_v6 = run_training(logits, grad, 10**-2, 0.6, tick, n_ticks, xtr, ytr, xte, yte, batch, verb)"
   ]
  },
  {
   "cell_type": "code",
   "execution_count": 35,
   "metadata": {
    "collapsed": true
   },
   "outputs": [],
   "source": [
    "gr_r7, gr_e7, gr_t7, gr_v7 = run_training(logits, grad, 10**-2, 0.4, tick, n_ticks, xtr, ytr, xte, yte, batch, verb)"
   ]
  },
  {
   "cell_type": "code",
   "execution_count": 42,
   "metadata": {
    "collapsed": true
   },
   "outputs": [],
   "source": [
    "gr_r8, gr_e8, gr_t8, gr_v8 = run_training(logits, grad, 10**-2, 0.2, tick, n_ticks, xtr, ytr, xte, yte, batch, verb)"
   ]
  },
  {
   "cell_type": "code",
   "execution_count": 43,
   "metadata": {
    "collapsed": false
   },
   "outputs": [
    {
     "data": {
      "image/png": "[encoded data removed]",
      "text/plain": [
       "<matplotlib.figure.Figure at 0x7f2a6c6cb950>"
      ]
     },
     "metadata": {},
     "output_type": "display_data"
    }
   ],
   "source": [
    "plt.plot(gr_t1,gr_e1, label='Gradient Descent 1.0')\n",
    "plt.plot(gr_t5,gr_e5, label='Gradient Descent 0.8')\n",
    "plt.plot(gr_t6,gr_e6, label='Gradient Descent 0.6')\n",
    "plt.plot(gr_t7,gr_e7, label='Gradient Descent 0.4')\n",
    "plt.plot(gr_t8,gr_e8, label='Gradient Descent 0.2')\n",
    "plt.legend()\n",
    "plt.show()"
   ]
  },
  {
   "cell_type": "markdown",
   "metadata": {},
   "source": [
    "## Adam Optimizer drop rate"
   ]
  },
  {
   "cell_type": "code",
   "execution_count": 44,
   "metadata": {
    "collapsed": true
   },
   "outputs": [],
   "source": [
    "batch = 512\n",
    "tick = 3000\n",
    "n_ticks = 20\n",
    "verb = 0"
   ]
  },
  {
   "cell_type": "code",
   "execution_count": 45,
   "metadata": {
    "collapsed": true
   },
   "outputs": [],
   "source": [
    "ad_r5, ad_e5, ad_t5, ad_v5 = run_training(logits, adam, 10**-2, 1.0, tick, n_ticks, xtr, ytr, xte, yte, batch, verb)"
   ]
  },
  {
   "cell_type": "code",
   "execution_count": 46,
   "metadata": {
    "collapsed": true
   },
   "outputs": [],
   "source": [
    "ad_r6, ad_e6, ad_t6, ad_v6 = run_training(logits, adam, 10**-2, 0.8, tick, n_ticks, xtr, ytr, xte, yte, batch, verb)"
   ]
  },
  {
   "cell_type": "code",
   "execution_count": 47,
   "metadata": {
    "collapsed": true
   },
   "outputs": [],
   "source": [
    "ad_r7, ad_e7, ad_t7, ad_v7 = run_training(logits, adam, 10**-2, 0.6, tick, n_ticks, xtr, ytr, xte, yte, batch, verb)"
   ]
  },
  {
   "cell_type": "code",
   "execution_count": 48,
   "metadata": {
    "collapsed": true
   },
   "outputs": [],
   "source": [
    "ad_r8, ad_e8, ad_t8, ad_v8 = run_training(logits, adam, 10**-2, 0.4, tick, n_ticks, xtr, ytr, xte, yte, batch, verb)"
   ]
  },
  {
   "cell_type": "code",
   "execution_count": 49,
   "metadata": {
    "collapsed": true
   },
   "outputs": [],
   "source": [
    "ad_r9, ad_e9, ad_t9, ad_v9 = run_training(logits, adam, 10**-2, 0.2, tick, n_ticks, xtr, ytr, xte, yte, batch, verb)"
   ]
  },
  {
   "cell_type": "markdown",
   "metadata": {},
   "source": [
    "#### With keep rate of 0.2 it fails to learn"
   ]
  },
  {
   "cell_type": "code",
   "execution_count": 51,
   "metadata": {
    "collapsed": false
   },
   "outputs": [
    {
     "data": {
      "text/plain": [
       "(0.87347585114806015,\n",
       " 0.87173396674584325,\n",
       " 0.74663499604117178,\n",
       " 0.82486144101346004,\n",
       " 0.05669041963578781)"
      ]
     },
     "execution_count": 51,
     "metadata": {},
     "output_type": "execute_result"
    }
   ],
   "source": [
    "ad_v5, ad_v6, ad_v7, ad_v8, ad_v9"
   ]
  },
  {
   "cell_type": "code",
   "execution_count": 52,
   "metadata": {
    "collapsed": false
   },
   "outputs": [
    {
     "data": {
      "image/png": "[encoded data removed]",
      "text/plain": [
       "<matplotlib.figure.Figure at 0x7f2a2faf9350>"
      ]
     },
     "metadata": {},
     "output_type": "display_data"
    }
   ],
   "source": [
    "plt.plot(ad_t5,ad_e5, label='Adam 1.0')\n",
    "plt.plot(ad_t6,ad_e6, label='Adam 0.8')\n",
    "plt.plot(ad_t7,ad_e7, label='Adam 0.6')\n",
    "plt.plot(ad_t8,ad_e8, label='Adam 0.4')\n",
    "plt.legend()\n",
    "plt.show()"
   ]
  }
 ],
 "metadata": {
  "kernelspec": {
   "display_name": "Python 2",
   "language": "python",
   "name": "python2"
  },
  "language_info": {
   "codemirror_mode": {
    "name": "ipython",
    "version": 2
   },
   "file_extension": ".py",
   "mimetype": "text/x-python",
   "name": "python",
   "nbconvert_exporter": "python",
   "pygments_lexer": "ipython2",
   "version": "2.7.12+"
  }
 },
 "nbformat": 4,
 "nbformat_minor": 2
}
