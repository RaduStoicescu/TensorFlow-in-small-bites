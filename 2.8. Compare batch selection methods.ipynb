{
 "cells": [
  {
   "cell_type": "markdown",
   "metadata": {},
   "source": [
    "# Compare batch selection methods"
   ]
  },
  {
   "cell_type": "markdown",
   "metadata": {
    "collapsed": true
   },
   "source": [
    "## Objectives\n",
    "- Until now I trained my networks using completly random samples from the training set\n",
    "- Another approach is to pick baches in sequence from the dataset, until the dataset is exhausted, randomize the dataset and repeat\n",
    "- In this notebook I compare the two approaches\n",
    "- For a fair comparison I modified the run_training works, it is counting training examples seen by the model instead of batches"
   ]
  },
  {
   "cell_type": "code",
   "execution_count": 1,
   "metadata": {
    "collapsed": true
   },
   "outputs": [],
   "source": [
    "import tensorflow as tf\n",
    "import matplotlib.pyplot as plt\n",
    "import numpy as np\n",
    "import pickle\n",
    "import cv2\n",
    "\n",
    "import matplotlib.pyplot as plt\n",
    "from sklearn.model_selection import train_test_split\n",
    "from sklearn.preprocessing import LabelBinarizer\n",
    "from sklearn.utils import shuffle"
   ]
  },
  {
   "cell_type": "code",
   "execution_count": 2,
   "metadata": {
    "collapsed": false
   },
   "outputs": [
    {
     "data": {
      "text/plain": [
       "'1.0.0'"
      ]
     },
     "execution_count": 2,
     "metadata": {},
     "output_type": "execute_result"
    }
   ],
   "source": [
    "tf.__version__"
   ]
  },
  {
   "cell_type": "markdown",
   "metadata": {},
   "source": [
    "<img align=\"left\" src=\"files/old.png\"> **Load data**"
   ]
  },
  {
   "cell_type": "code",
   "execution_count": 3,
   "metadata": {
    "collapsed": false
   },
   "outputs": [],
   "source": [
    "training_file = './data/train2.p'\n",
    "testing_file = './data/test2.p'\n",
    "\n",
    "with open(training_file, mode='rb') as f:\n",
    "    train = pickle.load(f)\n",
    "with open(testing_file, mode='rb') as f:\n",
    "    test = pickle.load(f)"
   ]
  },
  {
   "cell_type": "markdown",
   "metadata": {},
   "source": [
    "<img align=\"left\" src=\"files/old.png\"> **Standardize naming** "
   ]
  },
  {
   "cell_type": "code",
   "execution_count": 4,
   "metadata": {
    "collapsed": true
   },
   "outputs": [],
   "source": [
    "xtr = train['features']\n",
    "ytr = train['labels']\n",
    "\n",
    "xva, xte, yva, yte = train_test_split(test['features'], test['labels'], test_size=0.5)"
   ]
  },
  {
   "cell_type": "markdown",
   "metadata": {},
   "source": [
    "<img align=\"left\" src=\"files/old.png\"> **One hot encoding**"
   ]
  },
  {
   "cell_type": "code",
   "execution_count": 5,
   "metadata": {
    "collapsed": false
   },
   "outputs": [],
   "source": [
    "encoder = LabelBinarizer()\n",
    "encoder.fit(ytr)\n",
    "ytr = encoder.transform(ytr).astype(float)\n",
    "yte = encoder.transform(yte).astype(float)\n",
    "yva = encoder.transform(yva).astype(float)"
   ]
  },
  {
   "cell_type": "markdown",
   "metadata": {},
   "source": [
    "<img align=\"left\" src=\"files/old.png\"> **Normalize the input**"
   ]
  },
  {
   "cell_type": "code",
   "execution_count": 6,
   "metadata": {
    "collapsed": true
   },
   "outputs": [],
   "source": [
    "def normalize(x_in,y_in):\n",
    "    \n",
    "    x_out = []\n",
    "    y_out = []\n",
    "    for i, (image, label) in enumerate(zip(x_in, y_in)):\n",
    "        zeros = np.zeros((32,32,3))\n",
    "        norm_image = cv2.normalize(image, zeros, alpha=0, beta=1, norm_type=cv2.NORM_MINMAX, dtype=cv2.CV_32F)\n",
    "        x_out.append(norm_image)\n",
    "        y_out.append(label)\n",
    "\n",
    "    return x_out, y_out"
   ]
  },
  {
   "cell_type": "code",
   "execution_count": 7,
   "metadata": {
    "collapsed": false
   },
   "outputs": [],
   "source": [
    "xtr, ytr = normalize(xtr,ytr)\n",
    "xte, yte = normalize(xte,yte)\n",
    "xva, yva = normalize(xva,yva)"
   ]
  },
  {
   "cell_type": "markdown",
   "metadata": {},
   "source": [
    "<img align=\"left\" src=\"files/old.png\"> **Convolutional layer**"
   ]
  },
  {
   "cell_type": "code",
   "execution_count": 8,
   "metadata": {
    "collapsed": true
   },
   "outputs": [],
   "source": [
    "def convolutional_layer(input, filter_size, in_channels, out_channels):\n",
    "\n",
    "    filter_shape = [filter_size, filter_size, in_channels, out_channels]\n",
    "    biases_shape = [out_channels]\n",
    "    \n",
    "    filter = tf.Variable(tf.truncated_normal(shape=filter_shape, mean=0, stddev=0.1))\n",
    "    biases = tf.Variable(tf.constant(0.1, shape=biases_shape))\n",
    "    \n",
    "    return tf.nn.conv2d(input, filter, strides=[1, 1, 1, 1], padding='SAME') + biases"
   ]
  },
  {
   "cell_type": "markdown",
   "metadata": {},
   "source": [
    "<img align=\"left\" src=\"files/old.png\"> **Inception module**"
   ]
  },
  {
   "cell_type": "code",
   "execution_count": 9,
   "metadata": {
    "collapsed": true
   },
   "outputs": [],
   "source": [
    "def inception_layer(layer_in, ch_in, m_ch ,ch_out):\n",
    "\n",
    "    conv_1 = convolutional_layer(layer_in, 1, ch_in, ch_out)\n",
    "    \n",
    "    conv_3a = convolutional_layer(layer_in, 1, ch_in,  m_ch)\n",
    "    conv_3b = convolutional_layer(conv_3a , 3, m_ch    , ch_out)\n",
    "    \n",
    "    conv_5a = convolutional_layer(layer_in, 1, ch_in,  m_ch)\n",
    "    conv_5b = convolutional_layer(conv_5a , 5, m_ch    , ch_out)\n",
    "\n",
    "    maxpola = tf.nn.max_pool(layer_in,[1,3,3,1],[1,1,1,1],padding='SAME')\n",
    "    maxpolb = convolutional_layer(maxpola, 1, ch_in, ch_out)\n",
    "    \n",
    "    result = tf.concat([conv_1, conv_3b, conv_5b, maxpolb],3)\n",
    "    \n",
    "    result = tf.nn.relu(result)\n",
    "    \n",
    "    return result"
   ]
  },
  {
   "cell_type": "markdown",
   "metadata": {},
   "source": [
    "<img align=\"left\" src=\"files/old.png\"> **Flatten the layer**"
   ]
  },
  {
   "cell_type": "code",
   "execution_count": 10,
   "metadata": {
    "collapsed": true
   },
   "outputs": [],
   "source": [
    "def flatten_layer(input):\n",
    "    \n",
    "    layer_shape = input.get_shape()\n",
    "    num_features = layer_shape[1:4].num_elements()\n",
    "    layer_flat = tf.reshape(input, [-1, num_features])\n",
    "    \n",
    "    return layer_flat, num_features"
   ]
  },
  {
   "cell_type": "markdown",
   "metadata": {},
   "source": [
    "<img align=\"left\" src=\"files/old.png\"> **Fully connected layer**"
   ]
  },
  {
   "cell_type": "code",
   "execution_count": 11,
   "metadata": {
    "collapsed": false
   },
   "outputs": [],
   "source": [
    "def fully_connected_layer(input, num_features, num_outputs):\n",
    "    \n",
    "    weights = tf.Variable(tf.truncated_normal([num_features, num_outputs], stddev=0.05))\n",
    "    biases = tf.Variable(tf.constant(0.05, shape=[num_outputs]))\n",
    "\n",
    "    output = tf.matmul(input, weights) + biases\n",
    "    \n",
    "    return output"
   ]
  },
  {
   "cell_type": "markdown",
   "metadata": {},
   "source": [
    "<img align=\"left\" src=\"files/old.png\"> **Test accuracy**"
   ]
  },
  {
   "cell_type": "code",
   "execution_count": 12,
   "metadata": {
    "collapsed": false
   },
   "outputs": [],
   "source": [
    "def test_accuracy(logits,x_data,y_data):\n",
    "    \n",
    "    y_pred = tf.nn.softmax(logits)\n",
    "    \n",
    "    y_pred_cls = tf.argmax(y_pred, dimension=1)\n",
    "    y_true_cls = tf.argmax(y, dimension=1)\n",
    "\n",
    "    prediction = tf.equal(y_pred_cls, y_true_cls)    \n",
    "    \n",
    "    num_examples = len(x_data)\n",
    "    batch_size = 512\n",
    "    all_predictions = []\n",
    "    \n",
    "    for offset in range(0, num_examples, batch_size):\n",
    "        batch_x, batch_y = x_data[offset:offset+batch_size], y_data[offset:offset+batch_size]\n",
    "        all_predictions.extend(sess.run(prediction, feed_dict = {x: batch_x, y: batch_y, keep_prob: 1})) \n",
    "    \n",
    "    return np.mean(all_predictions)"
   ]
  },
  {
   "cell_type": "markdown",
   "metadata": {},
   "source": [
    "## Build the computational graph using the defined functions"
   ]
  },
  {
   "cell_type": "code",
   "execution_count": 13,
   "metadata": {
    "collapsed": false
   },
   "outputs": [],
   "source": [
    "x = tf.placeholder(tf.float32, [None, 32, 32, 3])\n",
    "y = tf.placeholder(tf.float32, [None, 43])\n",
    "\n",
    "learning_rate = tf.placeholder(tf.float32)\n",
    "keep_prob = tf.placeholder(tf.float32)\n",
    "\n",
    "a = inception_layer(x, 3, 8, 16)\n",
    "b = inception_layer(a, 64, 16, 32)\n",
    "\n",
    "\n",
    "layer_flat, num_features = flatten_layer(b)\n",
    "\n",
    "layer_1 = fully_connected_layer(layer_flat, num_features, 1024)\n",
    "layer_1 = tf.nn.relu(layer_1)\n",
    "\n",
    "layer_1   = tf.nn.dropout(layer_1, keep_prob)\n",
    "\n",
    "logits = fully_connected_layer(layer_1, 1024, 43)\n",
    "\n",
    "cross_entropy = tf.nn.softmax_cross_entropy_with_logits(logits=logits,labels=y)\n",
    "cost = tf.reduce_mean(cross_entropy)\n",
    "\n",
    "grad = tf.train.GradientDescentOptimizer(learning_rate).minimize(cost)\n",
    "adam = tf.train.AdamOptimizer(learning_rate).minimize(cost)"
   ]
  },
  {
   "cell_type": "markdown",
   "metadata": {},
   "source": [
    "<img align=\"left\" src=\"files/new.png\"> **Havily modified training function**"
   ]
  },
  {
   "cell_type": "code",
   "execution_count": 14,
   "metadata": {
    "collapsed": false
   },
   "outputs": [],
   "source": [
    "def run_training(logits, optimizer, train_batch, tick, n_ticks, l_rate, keep_rate, xtr, ytr, xte, yte, tt, verbose):\n",
    "    \n",
    "    sess.run(tf.global_variables_initializer())\n",
    "    \n",
    "    result = [[],[],[],0]\n",
    "    samples_seen = 0\n",
    "    completed_ticks = 0\n",
    "    num_examples = len(xtr)\n",
    "    offset = 0\n",
    "    \n",
    "    while completed_ticks < n_ticks:\n",
    "        \n",
    "        if tt:\n",
    "            \n",
    "            random_state = completed_ticks*tick+samples_seen\n",
    "            train_samples = train_batch\n",
    "            x1, x2, y1, y2 = train_test_split(xtr, ytr, train_size=train_batch, random_state=random_state)\n",
    "            \n",
    "        else:\n",
    "            \n",
    "            end = min(offset + train_batch, num_examples)\n",
    "            train_samples = end - offset\n",
    "            \n",
    "            x1, y1 = xtr[offset:end], ytr[offset:end]\n",
    "            offset = end            \n",
    "            if offset == num_examples:\n",
    "                xtr, ytr = shuffle(xtr, ytr)\n",
    "                offset = 0\n",
    "        \n",
    "        sess.run(optimizer, feed_dict = {x: x1, y: y1, learning_rate: l_rate, keep_prob: keep_rate})\n",
    "        \n",
    "        samples_seen = samples_seen + train_samples\n",
    "        \n",
    "        if  samples_seen > tick:\n",
    "        \n",
    "            tr_a        = test_accuracy(logits,xtr,ytr)\n",
    "            te_a        = test_accuracy(logits,xte,yte)\n",
    "            graph_axis  = completed_ticks * tick + samples_seen\n",
    "            result[0].append(tr_a)\n",
    "            result[1].append(te_a)\n",
    "            result[2].append(graph_axis)\n",
    "            \n",
    "            samples_seen = samples_seen - tick\n",
    "            completed_ticks = completed_ticks + 1\n",
    "            \n",
    "            if verbose:\n",
    "                print graph_axis, tr_a, te_a\n",
    "                \n",
    "    result[3] = test_accuracy(logits,xva,yva)\n",
    "    return result"
   ]
  },
  {
   "cell_type": "code",
   "execution_count": 15,
   "metadata": {
    "collapsed": true
   },
   "outputs": [],
   "source": [
    "sess = tf.Session()"
   ]
  },
  {
   "cell_type": "code",
   "execution_count": 16,
   "metadata": {
    "collapsed": false
   },
   "outputs": [],
   "source": [
    "r1, e1, s1, v1 = run_training(logits, adam, 16, 1000000, 10, 0.0001, 0.5, xtr, ytr, xte, yte, 1, 0)"
   ]
  },
  {
   "cell_type": "code",
   "execution_count": 17,
   "metadata": {
    "collapsed": false
   },
   "outputs": [],
   "source": [
    "r2, e2, s2, v2 = run_training(logits, adam, 16, 1000000, 10, 0.0001, 0.5, xtr, ytr, xte, yte, 0, 0)"
   ]
  },
  {
   "cell_type": "code",
   "execution_count": 18,
   "metadata": {
    "collapsed": false
   },
   "outputs": [
    {
     "data": {
      "image/png": "[encoded data removed]",
      "text/plain": [
       "<matplotlib.figure.Figure at 0x7f70f695af10>"
      ]
     },
     "metadata": {},
     "output_type": "display_data"
    }
   ],
   "source": [
    "plt.plot(s1,e1, label='Random Batches')\n",
    "plt.plot(s2,e2, label='Sequence Batches')\n",
    "plt.legend()\n",
    "plt.show()"
   ]
  },
  {
   "cell_type": "code",
   "execution_count": 19,
   "metadata": {
    "collapsed": false
   },
   "outputs": [
    {
     "data": {
      "text/plain": [
       "(0.96199524940617576, 0.9566112430720507)"
      ]
     },
     "execution_count": 19,
     "metadata": {},
     "output_type": "execute_result"
    }
   ],
   "source": [
    "v1, v2"
   ]
  }
 ],
 "metadata": {
  "kernelspec": {
   "display_name": "Python 2",
   "language": "python",
   "name": "python2"
  },
  "language_info": {
   "codemirror_mode": {
    "name": "ipython",
    "version": 2
   },
   "file_extension": ".py",
   "mimetype": "text/x-python",
   "name": "python",
   "nbconvert_exporter": "python",
   "pygments_lexer": "ipython2",
   "version": "2.7.12+"
  }
 },
 "nbformat": 4,
 "nbformat_minor": 2
}
